{
 "cells": [
  {
   "cell_type": "code",
   "execution_count": 3,
   "metadata": {
    "collapsed": true
   },
   "outputs": [],
   "source": [
    "import itertools"
   ]
  },
  {
   "cell_type": "code",
   "execution_count": 66,
   "metadata": {
    "collapsed": true
   },
   "outputs": [],
   "source": [
    "transactions = [(1, [1,3,4]), (1, [1,3,4]), (2, [2,3,5]), (3, [1,2,3,5]), (4, [2,5]), (5, [1,3,5])]"
   ]
  },
  {
   "cell_type": "code",
   "execution_count": 74,
   "metadata": {
    "collapsed": true
   },
   "outputs": [],
   "source": [
    "def support(element, items):\n",
    "    return sum(map (lambda x:set(element) <= set(x), items))"
   ]
  },
  {
   "cell_type": "code",
   "execution_count": 75,
   "metadata": {
    "collapsed": false
   },
   "outputs": [],
   "source": [
    "items = map(lambda x:x[1], transactions)\n",
    "max_length = max(map(len, items))\n",
    "ids = set(itertools.chain(*items))\n",
    "L1 = list(itertools.combinations(ids, 1))"
   ]
  },
  {
   "cell_type": "code",
   "execution_count": 76,
   "metadata": {
    "collapsed": false
   },
   "outputs": [
    {
     "name": "stdout",
     "output_type": "stream",
     "text": [
      "[((1,), 4), ((2,), 3), ((3,), 5), ((4,), 2), ((5,), 4)]\n"
     ]
    }
   ],
   "source": [
    "minimal_support = 2\n",
    "CI1 = [(x, support(x, items)) for x in L1]\n",
    "FI1 = filter(lambda x:x[1] >= minimal_support, CI1)\n",
    "print FI1"
   ]
  },
  {
   "cell_type": "code",
   "execution_count": 77,
   "metadata": {
    "collapsed": false
   },
   "outputs": [
    {
     "name": "stdout",
     "output_type": "stream",
     "text": [
      "[((1, 2), 1), ((1, 3), 4), ((1, 4), 2), ((1, 5), 2), ((2, 3), 2), ((2, 4), 0), ((2, 5), 3), ((3, 4), 2), ((3, 5), 3), ((4, 5), 0)]\n"
     ]
    }
   ],
   "source": [
    "ids = set(itertools.chain(*map(lambda x:x[0], FI1)))\n",
    "L2 = list(itertools.combinations(ids, 2))\n",
    "CI2 = [(x, support(x, items)) for x in L2]\n",
    "FI2 = filter(lambda x:x[1] >= minimal_support, CI2)\n",
    "print CI2"
   ]
  },
  {
   "cell_type": "code",
   "execution_count": 80,
   "metadata": {
    "collapsed": false
   },
   "outputs": [
    {
     "name": "stdout",
     "output_type": "stream",
     "text": [
      "{1: [((1,), 4), ((2,), 3), ((3,), 5), ((4,), 2), ((5,), 4)], 2: [((1, 3), 4), ((1, 4), 2), ((1, 5), 2), ((2, 3), 2), ((2, 5), 3), ((3, 4), 2), ((3, 5), 3)], 3: [((1, 3, 4), 2), ((1, 3, 5), 2), ((2, 3, 5), 2)], 4: []}\n"
     ]
    }
   ],
   "source": [
    "minimal_support = 2\n",
    "L = {}\n",
    "\n",
    "items = map(lambda x:x[1], transactions)\n",
    "ids = set(itertools.chain(*items))\n",
    "for index in range(1, max_length+1):\n",
    "    LI = list(itertools.combinations(ids, index))\n",
    "    CI = [(x, support(x, items)) for x in LI]\n",
    "    L[index] = filter(lambda x:x[1] >= minimal_support, CI)\n",
    "    ids = set(itertools.chain(*map(lambda x:x[0], L[index])))\n",
    "    #jest potrzebny lepszy sposób generowania ids, zmiast wszystkie kombinacje, trzeba brać poprzednie elmenenty z dodanym jednym elementem\n",
    "print L"
   ]
  },
  {
   "cell_type": "code",
   "execution_count": null,
   "metadata": {
    "collapsed": true
   },
   "outputs": [],
   "source": []
  },
  {
   "cell_type": "code",
   "execution_count": null,
   "metadata": {
    "collapsed": true
   },
   "outputs": [],
   "source": []
  }
 ],
 "metadata": {
  "kernelspec": {
   "display_name": "Python 2",
   "language": "python",
   "name": "python2"
  },
  "language_info": {
   "codemirror_mode": {
    "name": "ipython",
    "version": 2
   },
   "file_extension": ".py",
   "mimetype": "text/x-python",
   "name": "python",
   "nbconvert_exporter": "python",
   "pygments_lexer": "ipython2",
   "version": "2.7.6"
  }
 },
 "nbformat": 4,
 "nbformat_minor": 0
}
